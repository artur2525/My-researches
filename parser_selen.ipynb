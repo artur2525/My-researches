version https://git-lfs.github.com/spec/v1
oid sha256:2af8d261debfc85c9dbe51b1a74e2f7ec9467f60a9aeb2999b615773eeb08ffc
size 1900758
