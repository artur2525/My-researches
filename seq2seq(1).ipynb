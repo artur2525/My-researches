version https://git-lfs.github.com/spec/v1
oid sha256:e78b66d41d8978a6abbb6c266bbbb095719b2c965d63a9ef9f258dba59bcb5eb
size 190775
