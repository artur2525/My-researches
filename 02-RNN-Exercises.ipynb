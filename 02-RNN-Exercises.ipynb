version https://git-lfs.github.com/spec/v1
oid sha256:78dcbbcbfdb6f82f1bd9374f24bffa30b1045e1f1fbd635f802ebeb5bd26af29
size 280403
