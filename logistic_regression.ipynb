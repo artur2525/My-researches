version https://git-lfs.github.com/spec/v1
oid sha256:867e33fc1c9cc6117f9ed4e5641636cacea318ac97a58619dfe4a9f72988b4fb
size 82617
