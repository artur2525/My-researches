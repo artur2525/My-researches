version https://git-lfs.github.com/spec/v1
oid sha256:96957f4a4f2e922276c1562b095d83634f477c8163a001c5150b75154a41c61d
size 878186
